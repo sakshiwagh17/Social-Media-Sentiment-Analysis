{
 "cells": [
  {
   "cell_type": "markdown",
   "metadata": {},
   "source": [
    "import pandas as pd\n",
    "import re\n",
    "import nltk\n",
    "from nltk.corpus import stopwords\n",
    "from nltk.sentiment import SentimentIntensityAnalyzer\n",
    "\n",
    "nltk.download(\"stopwords\")\n",
    "nltk.download(\"vader_lexicon\")\n",
    "\n",
    "stop_words = set(stopwords.words(\"english\"))\n",
    "sia = SentimentIntensityAnalyzer()"
   ]
  },
  {
   "cell_type": "markdown",
   "metadata": {},
   "source": [
    "[nltk_data] Downloading package stopwords to\n",
    "[nltk_data]     C:\\Users\\DELL\\AppData\\Roaming\\nltk_data...\n",
    "[nltk_data]   Package stopwords is already up-to-date!\n",
    "[nltk_data] Downloading package vader_lexicon to\n",
    "[nltk_data]     C:\\Users\\DELL\\AppData\\Roaming\\nltk_data...\n",
    "[nltk_data]   Package vader_lexicon is already up-to-date!"
   ]
  },
  {
   "cell_type": "markdown",
   "metadata": {},
   "source": [
    "df = pd.read_csv(\"C:\\\\Users\\\\DELL\\\\Downloads\\\\sentiment140.csv\", encoding=\"ISO-8859-1\", header=None)\n",
    "\n",
    "# Assign column names\n",
    "df.columns = [\"sentiment\", \"id\", \"date\", \"query\", \"user\", \"text\"]\n",
    "\n",
    "# Keep only relevant columns\n",
    "df = df[[\"sentiment\", \"text\"]]\n",
    "\n",
    "# Map sentiment values (0 → Negative, 2 → Neutral, 4 → Positive)\n",
    "df[\"sentiment\"] = df[\"sentiment\"].map({0: \"negative\", 2: \"neutral\", 4: \"positive\"})\n",
    "df.head()"
   ]
  },
  {
   "cell_type": "markdown",
   "metadata": {},
   "source": [
    "    sentiment\t             text\n",
    "0\tnegative\t@switchfoot http://twitpic.com/2y1zl - Awww, t...\n",
    "1\tnegative\tis upset that he can't update his Facebook by ...\n",
    "2\tnegative\t@Kenichan I dived many times for the ball. Man...\n",
    "3\tnegative\tmy whole body feels itchy and like its on fire\n",
    "4\tnegative\t@nationwideclass no, it's not behaving at all...."
   ]
  },
  {
   "cell_type": "markdown",
   "metadata": {},
   "source": [
    "# function for data cleaning\n",
    "def clean_text(text):\n",
    "    text = re.sub(r\"http\\S+|www\\S+|https\\S+\", '', text, flags=re.MULTILINE)  #remove URLS\n",
    "    text = re.sub(r'\\@\\w+|\\#', '', text) # Remove mentions and hashtags\n",
    "    text = re.sub(r\"[^\\w\\s]\", '', text)  # Remove punctuation\n",
    "    text = text.lower()  \n",
    "    words = text.split()\n",
    "    words = [word for word in words if word not in stop_words]\n",
    "    return \" \".join(words)\n",
    "\n",
    "df[\"clean_text\"] = df[\"text\"].apply(clean_text)\n",
    "df.head()"
   ]
  },
  {
   "cell_type": "markdown",
   "metadata": {},
   "source": [
    "   sentiment\t        text\t                                        clean_text\n",
    "0\tnegative\t@switchfoot http://twitpic.com/2y1zl - Awww, t...\tthats bummer shoulda got david carr third day\n",
    "1\tnegative\tis upset that he can't update his Facebook by ...\tupset cant update facebook texting might cry r...\n",
    "2\tnegative\t@Kenichan I dived many times for the ball. Man...\tdived many times ball managed save 50 rest go ...\n",
    "3\tnegative\tmy whole body feels itchy and like its on fire\t    whole body feels itchy like fire\n",
    "4\tnegative\t@nationwideclass no, it's not behaving at all....\tbehaving im mad cant see"
   ]
  },
  {
   "cell_type": "markdown",
   "metadata": {},
   "source": [
    "# Apply VADER sentiment analysis\n",
    "from nltk.sentiment import SentimentIntensityAnalyzer\n",
    "\n",
    "nltk.download(\"vader_lexicon\")\n",
    "sia = SentimentIntensityAnalyzer()\n",
    "\n",
    "df[\"vader_sentiment\"] = df[\"clean_text\"].apply(lambda x: sia.polarity_scores(x)[\"compound\"])\n",
    "df[\"vader_label\"] = df[\"vader_sentiment\"].apply(lambda x: \"positive\" if x > 0.05 else \"negative\" if x < -0.05 else \"neutral\")\n",
    "\n",
    "df[[\"clean_text\", \"sentiment\", \"vader_label\"]].head(10)"
   ]
  },
  {
   "cell_type": "markdown",
   "metadata": {},
   "source": [
    "\tclean_text\t                                       sentiment\t vader_label\n",
    "0\tthats bummer shoulda got david carr third day\t    negative\tnegative\n",
    "1\tupset cant update facebook texting might cry r...\tnegative\tnegative\n",
    "2\tdived many times ball managed save 50 rest go ...\tnegative\tpositive\n",
    "3\twhole body feels itchy like fire\t                negative\tnegative\n",
    "4\tbehaving im mad cant see\t                        negative\tnegative\n",
    "5\twhole crew\t                                        negative\tneutral\n",
    "6\tneed hug\t                                        negative\tpositive\n",
    "7\they long time see yes rains bit bit lol im fin...\tnegative\tpositive\n",
    "8\tnope didnt\t                                        negative\tneutral\n",
    "9\tque muera\t                                        negative\tneutral"
   ]
  },
  {
   "cell_type": "markdown",
   "metadata": {},
   "source": [
    "\n",
    "sia = SentimentIntensityAnalyzer()\n",
    "\n",
    "def get_sentiment(text):\n",
    "    score = sia.polarity_scores(text)[\"compound\"]\n",
    "    if score >= 0.05:\n",
    "        return \"Positive\"\n",
    "    elif score <= -0.05:\n",
    "        return \"Negative\"\n",
    "    else:\n",
    "        return \"Neutral\"\n",
    "\n",
    "df[\"sentiment\"] = df[\"clean_text\"].apply(get_sentiment)\n",
    "\n",
    "print(df[\"sentiment\"].value_counts())"
   ]
  },
  {
   "cell_type": "markdown",
   "metadata": {},
   "source": [
    "sentiment\n",
    "Positive    760423\n",
    "Neutral     451671\n",
    "Negative    387906\n",
    "Name: count, dtype: int64"
   ]
  },
  {
   "cell_type": "markdown",
   "metadata": {},
   "source": [
    "import matplotlib.pyplot as plt\n",
    "sentiment_counts = df[\"sentiment\"].value_counts()\n",
    "\n",
    "colors = {\"Positive\": \"green\", \"Neutral\": \"gray\", \"Negative\": \"red\"}\n",
    "\n",
    "plt.figure(figsize=(7, 7))\n",
    "plt.pie(\n",
    "    sentiment_counts, \n",
    "    labels=sentiment_counts.index, \n",
    "    autopct='%1.1f%%', \n",
    "    colors=[colors[label] for label in sentiment_counts.index],\n",
    "    startangle=140\n",
    ")\n",
    "plt.title(\"Sentiment Distribution\")\n",
    "plt.show()"
   ]
  },
  {
   "cell_type": "markdown",
   "metadata": {},
   "source": [
    "import nltk\n",
    "from nltk.sentiment import SentimentIntensityAnalyzer\n",
    "\n",
    "nltk.download(\"vader_lexicon\")\n",
    "\n",
    "sia = SentimentIntensityAnalyzer()\n",
    "\n",
    "def chatbot_response(user_input):\n",
    "    sentiment_score = sia.polarity_scores(user_input)[\"compound\"]\n",
    "    \n",
    "    if sentiment_score >= 0.05:\n",
    "        return \"😊 I'm glad to hear that! How can I assist you further?\"\n",
    "    elif sentiment_score <= -0.05:\n",
    "        return \"😢 I'm sorry to hear that. Let me know how I can help.\"\n",
    "    else:\n",
    "        return \"😐 I see. Could you provide more details?\"\n",
    "\n",
    "print(\"🤖 Chatbot: Hi! How can I help you today? (Type 'exit' to stop)\")\n",
    "while True:\n",
    "    user_input = input(\"You: \")\n",
    "    if user_input.lower() == \"exit\":\n",
    "        print(\"🤖 Chatbot: Goodbye! Have a great day! 😊\")\n",
    "        break\n",
    "    response = chatbot_response(user_input)\n",
    "    print(f\"🤖 Chatbot: {response}\")"
   ]
  },
  {
   "cell_type": "markdown",
   "metadata": {},
   "source": [
    "🤖 Chatbot: Hi! How can I help you today? (Type 'exit' to stop)\n",
    "🤖 Chatbot: 😢 I'm sorry to hear that. Let me know how I can help.\n",
    "🤖 Chatbot: Goodbye! Have a great day! 😊"
   ]
  }
 ],
 "metadata": {
  "kernelspec": {
   "display_name": "Python 3",
   "language": "python",
   "name": "python3"
  },
  "language_info": {
   "codemirror_mode": {
    "name": "ipython",
    "version": 3
   },
   "file_extension": ".py",
   "mimetype": "text/x-python",
   "name": "python",
   "nbconvert_exporter": "python",
   "pygments_lexer": "ipython3",
   "version": "3.12.4"
  }
 },
 "nbformat": 4,
 "nbformat_minor": 2
}
